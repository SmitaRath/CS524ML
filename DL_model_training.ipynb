{
 "cells": [
  {
   "cell_type": "code",
   "execution_count": null,
   "id": "12da9bec",
   "metadata": {},
   "outputs": [],
   "source": [
    "!pip install catboost"
   ]
  },
  {
   "cell_type": "code",
   "execution_count": 151,
   "id": "9265f38b",
   "metadata": {},
   "outputs": [],
   "source": [
    "import pandas as pd\n",
    "heartdata='s3://heartana/heart.csv'\n",
    "df=pd.read_csv(heartdata)"
   ]
  },
  {
   "cell_type": "code",
   "execution_count": 152,
   "id": "6d1422cb",
   "metadata": {},
   "outputs": [
    {
     "data": {
      "text/plain": [
       "(303, 14)"
      ]
     },
     "execution_count": 152,
     "metadata": {},
     "output_type": "execute_result"
    }
   ],
   "source": [
    "df.shape"
   ]
  },
  {
   "cell_type": "code",
   "execution_count": 153,
   "id": "8c73ecce",
   "metadata": {},
   "outputs": [
    {
     "data": {
      "text/plain": [
       "Index(['age', 'sex', 'cp', 'trtbps', 'chol', 'fbs', 'restecg', 'thalachh',\n",
       "       'exng', 'oldpeak', 'slp', 'caa', 'thall', 'output'],\n",
       "      dtype='object')"
      ]
     },
     "execution_count": 153,
     "metadata": {},
     "output_type": "execute_result"
    }
   ],
   "source": [
    "df.columns"
   ]
  },
  {
   "cell_type": "code",
   "execution_count": 154,
   "id": "3cef32de",
   "metadata": {},
   "outputs": [
    {
     "data": {
      "text/html": [
       "<div>\n",
       "<style scoped>\n",
       "    .dataframe tbody tr th:only-of-type {\n",
       "        vertical-align: middle;\n",
       "    }\n",
       "\n",
       "    .dataframe tbody tr th {\n",
       "        vertical-align: top;\n",
       "    }\n",
       "\n",
       "    .dataframe thead th {\n",
       "        text-align: right;\n",
       "    }\n",
       "</style>\n",
       "<table border=\"1\" class=\"dataframe\">\n",
       "  <thead>\n",
       "    <tr style=\"text-align: right;\">\n",
       "      <th></th>\n",
       "      <th>age</th>\n",
       "      <th>sex</th>\n",
       "      <th>cp</th>\n",
       "      <th>trtbps</th>\n",
       "      <th>chol</th>\n",
       "      <th>fbs</th>\n",
       "      <th>restecg</th>\n",
       "      <th>thalachh</th>\n",
       "      <th>exng</th>\n",
       "      <th>oldpeak</th>\n",
       "      <th>slp</th>\n",
       "      <th>caa</th>\n",
       "      <th>thall</th>\n",
       "      <th>output</th>\n",
       "    </tr>\n",
       "  </thead>\n",
       "  <tbody>\n",
       "    <tr>\n",
       "      <th>0</th>\n",
       "      <td>63</td>\n",
       "      <td>1</td>\n",
       "      <td>3</td>\n",
       "      <td>145</td>\n",
       "      <td>233</td>\n",
       "      <td>1</td>\n",
       "      <td>0</td>\n",
       "      <td>150</td>\n",
       "      <td>0</td>\n",
       "      <td>2.3</td>\n",
       "      <td>0</td>\n",
       "      <td>0</td>\n",
       "      <td>1</td>\n",
       "      <td>1</td>\n",
       "    </tr>\n",
       "    <tr>\n",
       "      <th>1</th>\n",
       "      <td>37</td>\n",
       "      <td>1</td>\n",
       "      <td>2</td>\n",
       "      <td>130</td>\n",
       "      <td>250</td>\n",
       "      <td>0</td>\n",
       "      <td>1</td>\n",
       "      <td>187</td>\n",
       "      <td>0</td>\n",
       "      <td>3.5</td>\n",
       "      <td>0</td>\n",
       "      <td>0</td>\n",
       "      <td>2</td>\n",
       "      <td>1</td>\n",
       "    </tr>\n",
       "    <tr>\n",
       "      <th>2</th>\n",
       "      <td>41</td>\n",
       "      <td>0</td>\n",
       "      <td>1</td>\n",
       "      <td>130</td>\n",
       "      <td>204</td>\n",
       "      <td>0</td>\n",
       "      <td>0</td>\n",
       "      <td>172</td>\n",
       "      <td>0</td>\n",
       "      <td>1.4</td>\n",
       "      <td>2</td>\n",
       "      <td>0</td>\n",
       "      <td>2</td>\n",
       "      <td>1</td>\n",
       "    </tr>\n",
       "    <tr>\n",
       "      <th>3</th>\n",
       "      <td>56</td>\n",
       "      <td>1</td>\n",
       "      <td>1</td>\n",
       "      <td>120</td>\n",
       "      <td>236</td>\n",
       "      <td>0</td>\n",
       "      <td>1</td>\n",
       "      <td>178</td>\n",
       "      <td>0</td>\n",
       "      <td>0.8</td>\n",
       "      <td>2</td>\n",
       "      <td>0</td>\n",
       "      <td>2</td>\n",
       "      <td>1</td>\n",
       "    </tr>\n",
       "    <tr>\n",
       "      <th>4</th>\n",
       "      <td>57</td>\n",
       "      <td>0</td>\n",
       "      <td>0</td>\n",
       "      <td>120</td>\n",
       "      <td>354</td>\n",
       "      <td>0</td>\n",
       "      <td>1</td>\n",
       "      <td>163</td>\n",
       "      <td>1</td>\n",
       "      <td>0.6</td>\n",
       "      <td>2</td>\n",
       "      <td>0</td>\n",
       "      <td>2</td>\n",
       "      <td>1</td>\n",
       "    </tr>\n",
       "  </tbody>\n",
       "</table>\n",
       "</div>"
      ],
      "text/plain": [
       "   age  sex  cp  trtbps  chol  fbs  restecg  thalachh  exng  oldpeak  slp  \\\n",
       "0   63    1   3     145   233    1        0       150     0      2.3    0   \n",
       "1   37    1   2     130   250    0        1       187     0      3.5    0   \n",
       "2   41    0   1     130   204    0        0       172     0      1.4    2   \n",
       "3   56    1   1     120   236    0        1       178     0      0.8    2   \n",
       "4   57    0   0     120   354    0        1       163     1      0.6    2   \n",
       "\n",
       "   caa  thall  output  \n",
       "0    0      1       1  \n",
       "1    0      2       1  \n",
       "2    0      2       1  \n",
       "3    0      2       1  \n",
       "4    0      2       1  "
      ]
     },
     "execution_count": 154,
     "metadata": {},
     "output_type": "execute_result"
    }
   ],
   "source": [
    "df.head()"
   ]
  },
  {
   "cell_type": "code",
   "execution_count": 155,
   "id": "31fe5dca",
   "metadata": {},
   "outputs": [
    {
     "data": {
      "text/html": [
       "<div>\n",
       "<style scoped>\n",
       "    .dataframe tbody tr th:only-of-type {\n",
       "        vertical-align: middle;\n",
       "    }\n",
       "\n",
       "    .dataframe tbody tr th {\n",
       "        vertical-align: top;\n",
       "    }\n",
       "\n",
       "    .dataframe thead th {\n",
       "        text-align: right;\n",
       "    }\n",
       "</style>\n",
       "<table border=\"1\" class=\"dataframe\">\n",
       "  <thead>\n",
       "    <tr style=\"text-align: right;\">\n",
       "      <th></th>\n",
       "      <th>age</th>\n",
       "      <th>sex</th>\n",
       "      <th>cp</th>\n",
       "      <th>trtbps</th>\n",
       "      <th>chol</th>\n",
       "      <th>fbs</th>\n",
       "      <th>restecg</th>\n",
       "      <th>thalachh</th>\n",
       "      <th>exng</th>\n",
       "      <th>oldpeak</th>\n",
       "      <th>slp</th>\n",
       "      <th>caa</th>\n",
       "      <th>thall</th>\n",
       "      <th>output</th>\n",
       "    </tr>\n",
       "  </thead>\n",
       "  <tbody>\n",
       "    <tr>\n",
       "      <th>298</th>\n",
       "      <td>57</td>\n",
       "      <td>0</td>\n",
       "      <td>0</td>\n",
       "      <td>140</td>\n",
       "      <td>241</td>\n",
       "      <td>0</td>\n",
       "      <td>1</td>\n",
       "      <td>123</td>\n",
       "      <td>1</td>\n",
       "      <td>0.2</td>\n",
       "      <td>1</td>\n",
       "      <td>0</td>\n",
       "      <td>3</td>\n",
       "      <td>0</td>\n",
       "    </tr>\n",
       "    <tr>\n",
       "      <th>299</th>\n",
       "      <td>45</td>\n",
       "      <td>1</td>\n",
       "      <td>3</td>\n",
       "      <td>110</td>\n",
       "      <td>264</td>\n",
       "      <td>0</td>\n",
       "      <td>1</td>\n",
       "      <td>132</td>\n",
       "      <td>0</td>\n",
       "      <td>1.2</td>\n",
       "      <td>1</td>\n",
       "      <td>0</td>\n",
       "      <td>3</td>\n",
       "      <td>0</td>\n",
       "    </tr>\n",
       "    <tr>\n",
       "      <th>300</th>\n",
       "      <td>68</td>\n",
       "      <td>1</td>\n",
       "      <td>0</td>\n",
       "      <td>144</td>\n",
       "      <td>193</td>\n",
       "      <td>1</td>\n",
       "      <td>1</td>\n",
       "      <td>141</td>\n",
       "      <td>0</td>\n",
       "      <td>3.4</td>\n",
       "      <td>1</td>\n",
       "      <td>2</td>\n",
       "      <td>3</td>\n",
       "      <td>0</td>\n",
       "    </tr>\n",
       "    <tr>\n",
       "      <th>301</th>\n",
       "      <td>57</td>\n",
       "      <td>1</td>\n",
       "      <td>0</td>\n",
       "      <td>130</td>\n",
       "      <td>131</td>\n",
       "      <td>0</td>\n",
       "      <td>1</td>\n",
       "      <td>115</td>\n",
       "      <td>1</td>\n",
       "      <td>1.2</td>\n",
       "      <td>1</td>\n",
       "      <td>1</td>\n",
       "      <td>3</td>\n",
       "      <td>0</td>\n",
       "    </tr>\n",
       "    <tr>\n",
       "      <th>302</th>\n",
       "      <td>57</td>\n",
       "      <td>0</td>\n",
       "      <td>1</td>\n",
       "      <td>130</td>\n",
       "      <td>236</td>\n",
       "      <td>0</td>\n",
       "      <td>0</td>\n",
       "      <td>174</td>\n",
       "      <td>0</td>\n",
       "      <td>0.0</td>\n",
       "      <td>1</td>\n",
       "      <td>1</td>\n",
       "      <td>2</td>\n",
       "      <td>0</td>\n",
       "    </tr>\n",
       "  </tbody>\n",
       "</table>\n",
       "</div>"
      ],
      "text/plain": [
       "     age  sex  cp  trtbps  chol  fbs  restecg  thalachh  exng  oldpeak  slp  \\\n",
       "298   57    0   0     140   241    0        1       123     1      0.2    1   \n",
       "299   45    1   3     110   264    0        1       132     0      1.2    1   \n",
       "300   68    1   0     144   193    1        1       141     0      3.4    1   \n",
       "301   57    1   0     130   131    0        1       115     1      1.2    1   \n",
       "302   57    0   1     130   236    0        0       174     0      0.0    1   \n",
       "\n",
       "     caa  thall  output  \n",
       "298    0      3       0  \n",
       "299    0      3       0  \n",
       "300    2      3       0  \n",
       "301    1      3       0  \n",
       "302    1      2       0  "
      ]
     },
     "execution_count": 155,
     "metadata": {},
     "output_type": "execute_result"
    }
   ],
   "source": [
    "df.tail()"
   ]
  },
  {
   "cell_type": "code",
   "execution_count": 156,
   "id": "ef4f6cfd",
   "metadata": {},
   "outputs": [
    {
     "data": {
      "text/plain": [
       "0.5445544554455446"
      ]
     },
     "execution_count": 156,
     "metadata": {},
     "output_type": "execute_result"
    }
   ],
   "source": [
    "df[\"output\"].mean()"
   ]
  },
  {
   "cell_type": "code",
   "execution_count": 157,
   "id": "c1278973",
   "metadata": {},
   "outputs": [],
   "source": [
    "X = df.drop('output', axis = 1)\n",
    "y = df['output']"
   ]
  },
  {
   "cell_type": "code",
   "execution_count": 158,
   "id": "5d585ab8",
   "metadata": {},
   "outputs": [],
   "source": [
    "from sklearn.model_selection import train_test_split\n",
    "\n",
    "x_tr,x_test,y_tr,y_test = train_test_split(X, y, test_size = 0.2, random_state = 42)"
   ]
  },
  {
   "cell_type": "code",
   "execution_count": 159,
   "id": "b380ff2d",
   "metadata": {},
   "outputs": [],
   "source": [
    "from sklearn.preprocessing import StandardScaler\n",
    "\n",
    "scale = StandardScaler()\n",
    "\n",
    "x_tr = scale.fit_transform(x_tr)\n",
    "x_test = scale.transform(x_test)"
   ]
  },
  {
   "cell_type": "code",
   "execution_count": 161,
   "id": "c39a3756",
   "metadata": {},
   "outputs": [
    {
     "data": {
      "text/plain": [
       "array([5.44628099e+01, 6.57024793e-01, 9.91735537e-01, 1.30359504e+02,\n",
       "       2.46842975e+02, 1.28099174e-01, 5.53719008e-01, 1.50115702e+02,\n",
       "       3.14049587e-01, 1.01322314e+00, 1.42148760e+00, 6.81818182e-01,\n",
       "       2.30165289e+00])"
      ]
     },
     "execution_count": 161,
     "metadata": {},
     "output_type": "execute_result"
    }
   ],
   "source": [
    "scale.mean_"
   ]
  },
  {
   "cell_type": "code",
   "execution_count": 162,
   "id": "a0e81698",
   "metadata": {},
   "outputs": [
    {
     "data": {
      "text/plain": [
       "array([8.43725838e+01, 2.25343214e-01, 1.04125401e+00, 2.82040178e+02,\n",
       "       2.77584311e+03, 1.11689775e-01, 2.80172119e-01, 4.97565125e+02,\n",
       "       2.15422444e-01, 1.21065159e+00, 3.67802746e-01, 9.77272727e-01,\n",
       "       3.51154293e-01])"
      ]
     },
     "execution_count": 162,
     "metadata": {},
     "output_type": "execute_result"
    }
   ],
   "source": [
    "scale.var_"
   ]
  },
  {
   "cell_type": "code",
   "execution_count": 164,
   "id": "67944e9c",
   "metadata": {},
   "outputs": [
    {
     "data": {
      "text/plain": [
       "0.2762400715979868"
      ]
     },
     "execution_count": 164,
     "metadata": {},
     "output_type": "execute_result"
    }
   ],
   "source": [
    "import math\n",
    "(df.iloc[302][0]-5.44626066e+01)/math.sqrt(8.437276e+01)"
   ]
  },
  {
   "cell_type": "code",
   "execution_count": 143,
   "id": "1b5fe0c2",
   "metadata": {},
   "outputs": [
    {
     "data": {
      "text/plain": [
       "age          57.0\n",
       "sex           0.0\n",
       "cp            1.0\n",
       "trtbps      130.0\n",
       "chol        236.0\n",
       "fbs           0.0\n",
       "restecg       0.0\n",
       "thalachh    174.0\n",
       "exng          0.0\n",
       "oldpeak       0.0\n",
       "slp           1.0\n",
       "caa           1.0\n",
       "thall         2.0\n",
       "output        0.0\n",
       "Name: 302, dtype: float64"
      ]
     },
     "execution_count": 143,
     "metadata": {},
     "output_type": "execute_result"
    }
   ],
   "source": [
    "df.iloc[302]"
   ]
  },
  {
   "cell_type": "code",
   "execution_count": 165,
   "id": "559fcc8a",
   "metadata": {},
   "outputs": [
    {
     "data": {
      "text/plain": [
       "array([ 57.,   0.,   1., 130., 236.,   0.,   0., 174.,   0.,   0.,   1.,\n",
       "         1.,   2.,   0.])"
      ]
     },
     "execution_count": 165,
     "metadata": {},
     "output_type": "execute_result"
    }
   ],
   "source": [
    "df.iloc[302].values"
   ]
  },
  {
   "cell_type": "code",
   "execution_count": 166,
   "id": "8e0ec164",
   "metadata": {},
   "outputs": [
    {
     "data": {
      "text/plain": [
       "array([[ 0.27621823, -1.38407465,  0.00809909, -0.02140663, -0.20580267,\n",
       "        -0.38330071, -1.04610909,  1.07074858, -0.67663234, -0.92086403,\n",
       "        -0.69498803,  0.32186034, -0.50904773]])"
      ]
     },
     "execution_count": 166,
     "metadata": {},
     "output_type": "execute_result"
    }
   ],
   "source": [
    "scale.transform(df.iloc[302].values[:-1].reshape(1,-1))"
   ]
  },
  {
   "cell_type": "code",
   "execution_count": 168,
   "id": "2cf5eb38",
   "metadata": {
    "scrolled": true
   },
   "outputs": [
    {
     "name": "stdout",
     "output_type": "stream",
     "text": [
      "Train on 242 samples, validate on 61 samples\n",
      "Epoch 1/50\n",
      "242/242 [==============================] - 1s 3ms/sample - loss: 0.6346 - acc: 0.6529 - val_loss: 0.6680 - val_acc: 0.6885\n",
      "Epoch 2/50\n",
      "242/242 [==============================] - 0s 658us/sample - loss: 0.5973 - acc: 0.6983 - val_loss: 0.6282 - val_acc: 0.6885\n",
      "Epoch 3/50\n",
      "242/242 [==============================] - 0s 668us/sample - loss: 0.5666 - acc: 0.7273 - val_loss: 0.5951 - val_acc: 0.7377\n",
      "Epoch 4/50\n",
      "242/242 [==============================] - 0s 687us/sample - loss: 0.5404 - acc: 0.7397 - val_loss: 0.5676 - val_acc: 0.7541\n",
      "Epoch 5/50\n",
      "242/242 [==============================] - 0s 655us/sample - loss: 0.5178 - acc: 0.7438 - val_loss: 0.5444 - val_acc: 0.7869\n",
      "Epoch 6/50\n",
      "242/242 [==============================] - 0s 657us/sample - loss: 0.4985 - acc: 0.7603 - val_loss: 0.5234 - val_acc: 0.7869\n",
      "Epoch 7/50\n",
      "242/242 [==============================] - 0s 657us/sample - loss: 0.4819 - acc: 0.7645 - val_loss: 0.5047 - val_acc: 0.7869\n",
      "Epoch 8/50\n",
      "242/242 [==============================] - 0s 703us/sample - loss: 0.4675 - acc: 0.7727 - val_loss: 0.4902 - val_acc: 0.8033\n",
      "Epoch 9/50\n",
      "242/242 [==============================] - 0s 715us/sample - loss: 0.4552 - acc: 0.7727 - val_loss: 0.4773 - val_acc: 0.8033\n",
      "Epoch 10/50\n",
      "242/242 [==============================] - 0s 661us/sample - loss: 0.4443 - acc: 0.7851 - val_loss: 0.4646 - val_acc: 0.8033\n",
      "Epoch 11/50\n",
      "242/242 [==============================] - 0s 678us/sample - loss: 0.4351 - acc: 0.7934 - val_loss: 0.4538 - val_acc: 0.8033\n",
      "Epoch 12/50\n",
      "242/242 [==============================] - 0s 698us/sample - loss: 0.4263 - acc: 0.7975 - val_loss: 0.4450 - val_acc: 0.8033\n",
      "Epoch 13/50\n",
      "242/242 [==============================] - 0s 650us/sample - loss: 0.4192 - acc: 0.7975 - val_loss: 0.4368 - val_acc: 0.8033\n",
      "Epoch 14/50\n",
      "242/242 [==============================] - 0s 653us/sample - loss: 0.4130 - acc: 0.8017 - val_loss: 0.4303 - val_acc: 0.8033\n",
      "Epoch 15/50\n",
      "242/242 [==============================] - 0s 674us/sample - loss: 0.4071 - acc: 0.8140 - val_loss: 0.4241 - val_acc: 0.8033\n",
      "Epoch 16/50\n",
      "242/242 [==============================] - 0s 730us/sample - loss: 0.4020 - acc: 0.8182 - val_loss: 0.4180 - val_acc: 0.8361\n",
      "Epoch 17/50\n",
      "242/242 [==============================] - 0s 665us/sample - loss: 0.3978 - acc: 0.8223 - val_loss: 0.4124 - val_acc: 0.8361\n",
      "Epoch 18/50\n",
      "242/242 [==============================] - 0s 682us/sample - loss: 0.3935 - acc: 0.8223 - val_loss: 0.4083 - val_acc: 0.8525\n",
      "Epoch 19/50\n",
      "242/242 [==============================] - 0s 655us/sample - loss: 0.3899 - acc: 0.8306 - val_loss: 0.4042 - val_acc: 0.8525\n",
      "Epoch 20/50\n",
      "242/242 [==============================] - 0s 691us/sample - loss: 0.3868 - acc: 0.8347 - val_loss: 0.3999 - val_acc: 0.8689\n",
      "Epoch 21/50\n",
      "242/242 [==============================] - 0s 780us/sample - loss: 0.3837 - acc: 0.8388 - val_loss: 0.3970 - val_acc: 0.8852\n",
      "Epoch 22/50\n",
      "242/242 [==============================] - 0s 700us/sample - loss: 0.3809 - acc: 0.8388 - val_loss: 0.3934 - val_acc: 0.8852\n",
      "Epoch 23/50\n",
      "242/242 [==============================] - 0s 665us/sample - loss: 0.3784 - acc: 0.8347 - val_loss: 0.3908 - val_acc: 0.8852\n",
      "Epoch 24/50\n",
      "242/242 [==============================] - 0s 672us/sample - loss: 0.3765 - acc: 0.8347 - val_loss: 0.3881 - val_acc: 0.8852\n",
      "Epoch 25/50\n",
      "242/242 [==============================] - 0s 650us/sample - loss: 0.3744 - acc: 0.8223 - val_loss: 0.3859 - val_acc: 0.8689\n",
      "Epoch 26/50\n",
      "242/242 [==============================] - 0s 693us/sample - loss: 0.3725 - acc: 0.8264 - val_loss: 0.3831 - val_acc: 0.8689\n",
      "Epoch 27/50\n",
      "242/242 [==============================] - 0s 681us/sample - loss: 0.3711 - acc: 0.8264 - val_loss: 0.3815 - val_acc: 0.8689\n",
      "Epoch 28/50\n",
      "242/242 [==============================] - 0s 716us/sample - loss: 0.3693 - acc: 0.8347 - val_loss: 0.3800 - val_acc: 0.8689\n",
      "Epoch 29/50\n",
      "242/242 [==============================] - 0s 671us/sample - loss: 0.3680 - acc: 0.8306 - val_loss: 0.3781 - val_acc: 0.8689\n",
      "Epoch 30/50\n",
      "242/242 [==============================] - 0s 712us/sample - loss: 0.3666 - acc: 0.8347 - val_loss: 0.3764 - val_acc: 0.8689\n",
      "Epoch 31/50\n",
      "242/242 [==============================] - 0s 712us/sample - loss: 0.3659 - acc: 0.8347 - val_loss: 0.3754 - val_acc: 0.8689\n",
      "Epoch 32/50\n",
      "242/242 [==============================] - 0s 671us/sample - loss: 0.3643 - acc: 0.8388 - val_loss: 0.3743 - val_acc: 0.8852\n",
      "Epoch 33/50\n",
      "242/242 [==============================] - 0s 881us/sample - loss: 0.3635 - acc: 0.8430 - val_loss: 0.3731 - val_acc: 0.8852\n",
      "Epoch 34/50\n",
      "242/242 [==============================] - 0s 847us/sample - loss: 0.3626 - acc: 0.8430 - val_loss: 0.3719 - val_acc: 0.8852\n",
      "Epoch 35/50\n",
      "242/242 [==============================] - 0s 691us/sample - loss: 0.3616 - acc: 0.8430 - val_loss: 0.3708 - val_acc: 0.8852\n",
      "Epoch 36/50\n",
      "242/242 [==============================] - 0s 654us/sample - loss: 0.3610 - acc: 0.8430 - val_loss: 0.3701 - val_acc: 0.8852\n",
      "Epoch 37/50\n",
      "242/242 [==============================] - 0s 665us/sample - loss: 0.3601 - acc: 0.8430 - val_loss: 0.3690 - val_acc: 0.8852\n",
      "Epoch 38/50\n",
      "242/242 [==============================] - 0s 667us/sample - loss: 0.3596 - acc: 0.8430 - val_loss: 0.3686 - val_acc: 0.8852\n",
      "Epoch 39/50\n",
      "242/242 [==============================] - 0s 700us/sample - loss: 0.3589 - acc: 0.8430 - val_loss: 0.3679 - val_acc: 0.8852\n",
      "Epoch 40/50\n",
      "242/242 [==============================] - 0s 692us/sample - loss: 0.3584 - acc: 0.8430 - val_loss: 0.3671 - val_acc: 0.8852\n",
      "Epoch 41/50\n",
      "242/242 [==============================] - 0s 684us/sample - loss: 0.3578 - acc: 0.8430 - val_loss: 0.3671 - val_acc: 0.8852\n",
      "Epoch 42/50\n",
      "242/242 [==============================] - 0s 652us/sample - loss: 0.3572 - acc: 0.8430 - val_loss: 0.3663 - val_acc: 0.8852\n",
      "Epoch 43/50\n",
      "242/242 [==============================] - 0s 667us/sample - loss: 0.3569 - acc: 0.8388 - val_loss: 0.3657 - val_acc: 0.8852\n",
      "Epoch 44/50\n",
      "242/242 [==============================] - 0s 659us/sample - loss: 0.3565 - acc: 0.8430 - val_loss: 0.3655 - val_acc: 0.8852\n",
      "Epoch 45/50\n",
      "242/242 [==============================] - 0s 673us/sample - loss: 0.3559 - acc: 0.8471 - val_loss: 0.3655 - val_acc: 0.8852\n",
      "Epoch 46/50\n",
      "242/242 [==============================] - 0s 672us/sample - loss: 0.3556 - acc: 0.8471 - val_loss: 0.3650 - val_acc: 0.8852\n",
      "Epoch 47/50\n",
      "242/242 [==============================] - 0s 661us/sample - loss: 0.3552 - acc: 0.8554 - val_loss: 0.3648 - val_acc: 0.8852\n",
      "Epoch 48/50\n",
      "242/242 [==============================] - 0s 672us/sample - loss: 0.3551 - acc: 0.8554 - val_loss: 0.3646 - val_acc: 0.8852\n",
      "Epoch 49/50\n",
      "242/242 [==============================] - 0s 654us/sample - loss: 0.3546 - acc: 0.8554 - val_loss: 0.3644 - val_acc: 0.8852\n",
      "Epoch 50/50\n",
      "242/242 [==============================] - 0s 686us/sample - loss: 0.3542 - acc: 0.8595 - val_loss: 0.3640 - val_acc: 0.8852\n"
     ]
    }
   ],
   "source": [
    "from tensorflow.keras import backend as K\n",
    "\n",
    "from tensorflow.keras import layers, Sequential\n",
    "from tensorflow.keras import activations\n",
    "\n",
    "model = Sequential()\n",
    "model.add(layers.Dense(1,input_shape=(13,)))\n",
    "model.add(layers.Activation(activations.sigmoid))\n",
    "\n",
    "model.compile(\n",
    "    optimizer=\"adam\",\n",
    "    loss=\"binary_crossentropy\",\n",
    "    metrics=[\"accuracy\"],\n",
    ")\n",
    "\n",
    "history = model.fit(x_tr, y_tr, validation_data=(x_test, y_test), batch_size =4, epochs=50)"
   ]
  },
  {
   "cell_type": "markdown",
   "id": "625eecf5",
   "metadata": {},
   "source": [
    "Observation: \n",
    "   - Keras model performs well with an accuracy of 88%. We will use this model to predict the heart attack."
   ]
  },
  {
   "cell_type": "code",
   "execution_count": 169,
   "id": "3ecad156",
   "metadata": {},
   "outputs": [],
   "source": [
    "weights = model.get_weights() "
   ]
  },
  {
   "cell_type": "code",
   "execution_count": 175,
   "id": "05533612",
   "metadata": {},
   "outputs": [
    {
     "data": {
      "text/plain": [
       "[array([[-0.09005275],\n",
       "        [-0.7291416 ],\n",
       "        [ 0.6598856 ],\n",
       "        [-0.25411126],\n",
       "        [-0.1614455 ],\n",
       "        [ 0.1166103 ],\n",
       "        [ 0.24034064],\n",
       "        [ 0.46880907],\n",
       "        [-0.49103144],\n",
       "        [-0.7343311 ],\n",
       "        [ 0.30284047],\n",
       "        [-0.6067721 ],\n",
       "        [-0.55872846]], dtype=float32),\n",
       " array([0.16516548], dtype=float32)]"
      ]
     },
     "execution_count": 175,
     "metadata": {},
     "output_type": "execute_result"
    }
   ],
   "source": [
    "weights"
   ]
  }
 ],
 "metadata": {
  "kernelspec": {
   "display_name": "conda_tensorflow_p36",
   "language": "python",
   "name": "conda_tensorflow_p36"
  },
  "language_info": {
   "codemirror_mode": {
    "name": "ipython",
    "version": 3
   },
   "file_extension": ".py",
   "mimetype": "text/x-python",
   "name": "python",
   "nbconvert_exporter": "python",
   "pygments_lexer": "ipython3",
   "version": "3.6.13"
  }
 },
 "nbformat": 4,
 "nbformat_minor": 5
}
